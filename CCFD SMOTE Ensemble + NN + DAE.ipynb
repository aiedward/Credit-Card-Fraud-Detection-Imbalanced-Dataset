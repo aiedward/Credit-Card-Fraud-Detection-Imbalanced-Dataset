{
 "cells": [
  {
   "cell_type": "markdown",
   "metadata": {},
   "source": [
    "Data Source - https://www.kaggle.com/mlg-ulb/creditcardfraud\n",
    "After SMOTE the data is now balanced, and now we used the ensembles and Deep Auto Encoders to do training and see the results on testing."
   ]
  },
  {
   "cell_type": "code",
   "execution_count": 1,
   "metadata": {
    "_cell_guid": "b1076dfc-b9ad-4769-8c92-a6c4dae69d19",
    "_uuid": "8f2839f25d086af736a60e9eeb907d3b93b6e0e5"
   },
   "outputs": [
    {
     "name": "stderr",
     "output_type": "stream",
     "text": [
      "Using TensorFlow backend.\n",
      "C:\\Users\\d071556\\AppData\\Local\\Continuum\\anaconda3\\lib\\site-packages\\sklearn\\cross_validation.py:41: DeprecationWarning: This module was deprecated in version 0.18 in favor of the model_selection module into which all the refactored classes and functions are moved. Also note that the interface of the new CV iterators are different from that of this module. This module will be removed in 0.20.\n",
      "  \"This module will be removed in 0.20.\", DeprecationWarning)\n"
     ]
    }
   ],
   "source": [
    "'''So now the idea is to train it correctly and set/adjust the threshold so that confusion matrix is \n",
    "set in such way that accuracy is high. Now accuracy is the correct measure to consider as we have exactly 50-50% balanced dataset\n",
    "for each class for training so,\n",
    "'''\n",
    "import pandas as pd\n",
    "import numpy as np\n",
    "import pickle\n",
    "import matplotlib.pyplot as plt\n",
    "from scipy import stats\n",
    "import tensorflow as tf\n",
    "import seaborn as sns\n",
    "from pylab import rcParams\n",
    "from sklearn.model_selection import train_test_split\n",
    "from keras.models import Model, load_model\n",
    "from keras.layers import Input, Dense\n",
    "from keras.callbacks import ModelCheckpoint, TensorBoard\n",
    "from keras import regularizers\n",
    "from sklearn.preprocessing import MinMaxScaler\n",
    "from imblearn.over_sampling import SMOTE \n",
    "from collections import Counter\n",
    "from sklearn.datasets import make_classification\n",
    "from sklearn.model_selection import train_test_split\n",
    "from sklearn.ensemble import RandomForestClassifier\n",
    "from sklearn.metrics import recall_score\n",
    "from xgboost import XGBClassifier\n",
    "%matplotlib inline\n",
    "sns.set(style='whitegrid', palette='muted', font_scale=1.5)\n",
    "rcParams['figure.figsize'] = 14, 8\n",
    "RANDOM_SEED = 42\n",
    "LABELS = [\"Normal\", \"Fraud\"]"
   ]
  },
  {
   "cell_type": "markdown",
   "metadata": {},
   "source": [
    "Reading the datafiles in memory."
   ]
  },
  {
   "cell_type": "code",
   "execution_count": 3,
   "metadata": {
    "_cell_guid": "79c7e3d0-c299-4dcb-8224-4455121ee9b0",
    "_uuid": "d629ff2d2480ee46fbb7e2d37f6b5fab8052498a"
   },
   "outputs": [
    {
     "data": {
      "text/html": [
       "<div>\n",
       "<style>\n",
       "    .dataframe thead tr:only-child th {\n",
       "        text-align: right;\n",
       "    }\n",
       "\n",
       "    .dataframe thead th {\n",
       "        text-align: left;\n",
       "    }\n",
       "\n",
       "    .dataframe tbody tr th {\n",
       "        vertical-align: top;\n",
       "    }\n",
       "</style>\n",
       "<table border=\"1\" class=\"dataframe\">\n",
       "  <thead>\n",
       "    <tr style=\"text-align: right;\">\n",
       "      <th></th>\n",
       "      <th>Time</th>\n",
       "      <th>V1</th>\n",
       "      <th>V2</th>\n",
       "      <th>V3</th>\n",
       "      <th>V4</th>\n",
       "      <th>V5</th>\n",
       "      <th>V6</th>\n",
       "      <th>V9</th>\n",
       "      <th>V10</th>\n",
       "      <th>V14</th>\n",
       "      <th>V16</th>\n",
       "      <th>V17</th>\n",
       "      <th>V18</th>\n",
       "      <th>V19</th>\n",
       "      <th>V21</th>\n",
       "      <th>Amount</th>\n",
       "      <th>Class</th>\n",
       "    </tr>\n",
       "  </thead>\n",
       "  <tbody>\n",
       "    <tr>\n",
       "      <th>0</th>\n",
       "      <td>0.263980</td>\n",
       "      <td>0.975480</td>\n",
       "      <td>0.768060</td>\n",
       "      <td>0.831231</td>\n",
       "      <td>0.316356</td>\n",
       "      <td>0.766998</td>\n",
       "      <td>0.264401</td>\n",
       "      <td>0.480854</td>\n",
       "      <td>0.492552</td>\n",
       "      <td>0.600237</td>\n",
       "      <td>0.458462</td>\n",
       "      <td>0.764043</td>\n",
       "      <td>0.660305</td>\n",
       "      <td>0.539059</td>\n",
       "      <td>0.556330</td>\n",
       "      <td>0.003900</td>\n",
       "      <td>1</td>\n",
       "    </tr>\n",
       "    <tr>\n",
       "      <th>1</th>\n",
       "      <td>0.996643</td>\n",
       "      <td>0.990015</td>\n",
       "      <td>0.761044</td>\n",
       "      <td>0.827419</td>\n",
       "      <td>0.272936</td>\n",
       "      <td>0.762375</td>\n",
       "      <td>0.261666</td>\n",
       "      <td>0.498740</td>\n",
       "      <td>0.509883</td>\n",
       "      <td>0.645043</td>\n",
       "      <td>0.466434</td>\n",
       "      <td>0.711363</td>\n",
       "      <td>0.663609</td>\n",
       "      <td>0.523826</td>\n",
       "      <td>0.565077</td>\n",
       "      <td>0.003118</td>\n",
       "      <td>0</td>\n",
       "    </tr>\n",
       "    <tr>\n",
       "      <th>2</th>\n",
       "      <td>0.801443</td>\n",
       "      <td>0.934175</td>\n",
       "      <td>0.775426</td>\n",
       "      <td>0.836357</td>\n",
       "      <td>0.182667</td>\n",
       "      <td>0.771340</td>\n",
       "      <td>0.255168</td>\n",
       "      <td>0.478236</td>\n",
       "      <td>0.512373</td>\n",
       "      <td>0.651439</td>\n",
       "      <td>0.464644</td>\n",
       "      <td>0.695678</td>\n",
       "      <td>0.634542</td>\n",
       "      <td>0.499532</td>\n",
       "      <td>0.558385</td>\n",
       "      <td>0.000077</td>\n",
       "      <td>0</td>\n",
       "    </tr>\n",
       "    <tr>\n",
       "      <th>3</th>\n",
       "      <td>0.445359</td>\n",
       "      <td>0.969883</td>\n",
       "      <td>0.781349</td>\n",
       "      <td>0.815875</td>\n",
       "      <td>0.342284</td>\n",
       "      <td>0.774352</td>\n",
       "      <td>0.254664</td>\n",
       "      <td>0.456329</td>\n",
       "      <td>0.463648</td>\n",
       "      <td>0.475218</td>\n",
       "      <td>0.473543</td>\n",
       "      <td>0.848716</td>\n",
       "      <td>0.739162</td>\n",
       "      <td>0.509612</td>\n",
       "      <td>0.555836</td>\n",
       "      <td>0.000039</td>\n",
       "      <td>1</td>\n",
       "    </tr>\n",
       "    <tr>\n",
       "      <th>4</th>\n",
       "      <td>0.463427</td>\n",
       "      <td>0.955610</td>\n",
       "      <td>0.778116</td>\n",
       "      <td>0.869931</td>\n",
       "      <td>0.388904</td>\n",
       "      <td>0.759693</td>\n",
       "      <td>0.278908</td>\n",
       "      <td>0.423913</td>\n",
       "      <td>0.510500</td>\n",
       "      <td>0.658230</td>\n",
       "      <td>0.450287</td>\n",
       "      <td>0.744509</td>\n",
       "      <td>0.673921</td>\n",
       "      <td>0.585011</td>\n",
       "      <td>0.542966</td>\n",
       "      <td>0.000996</td>\n",
       "      <td>1</td>\n",
       "    </tr>\n",
       "  </tbody>\n",
       "</table>\n",
       "</div>"
      ],
      "text/plain": [
       "       Time        V1        V2        V3        V4        V5        V6  \\\n",
       "0  0.263980  0.975480  0.768060  0.831231  0.316356  0.766998  0.264401   \n",
       "1  0.996643  0.990015  0.761044  0.827419  0.272936  0.762375  0.261666   \n",
       "2  0.801443  0.934175  0.775426  0.836357  0.182667  0.771340  0.255168   \n",
       "3  0.445359  0.969883  0.781349  0.815875  0.342284  0.774352  0.254664   \n",
       "4  0.463427  0.955610  0.778116  0.869931  0.388904  0.759693  0.278908   \n",
       "\n",
       "         V9       V10       V14       V16       V17       V18       V19  \\\n",
       "0  0.480854  0.492552  0.600237  0.458462  0.764043  0.660305  0.539059   \n",
       "1  0.498740  0.509883  0.645043  0.466434  0.711363  0.663609  0.523826   \n",
       "2  0.478236  0.512373  0.651439  0.464644  0.695678  0.634542  0.499532   \n",
       "3  0.456329  0.463648  0.475218  0.473543  0.848716  0.739162  0.509612   \n",
       "4  0.423913  0.510500  0.658230  0.450287  0.744509  0.673921  0.585011   \n",
       "\n",
       "        V21    Amount  Class  \n",
       "0  0.556330  0.003900      1  \n",
       "1  0.565077  0.003118      0  \n",
       "2  0.558385  0.000077      0  \n",
       "3  0.555836  0.000039      1  \n",
       "4  0.542966  0.000996      1  "
      ]
     },
     "execution_count": 3,
     "metadata": {},
     "output_type": "execute_result"
    }
   ],
   "source": [
    "df = pd.read_csv(\"./ccfd_train.csv\") #This needs to be adjusted.\n",
    "test_df = pd.read_csv('./ccfd_test.csv')\n",
    "dataDae = pd.read_csv('./ccfd_train.csv')\n",
    "df.head()"
   ]
  },
  {
   "cell_type": "code",
   "execution_count": 4,
   "metadata": {
    "_cell_guid": "93daa70f-f5a9-441b-929a-989598154b81",
    "_uuid": "e2871a25882532436f8141910fbbf03cfdc24fbe"
   },
   "outputs": [
    {
     "data": {
      "text/html": [
       "<div>\n",
       "<style>\n",
       "    .dataframe thead tr:only-child th {\n",
       "        text-align: right;\n",
       "    }\n",
       "\n",
       "    .dataframe thead th {\n",
       "        text-align: left;\n",
       "    }\n",
       "\n",
       "    .dataframe tbody tr th {\n",
       "        vertical-align: top;\n",
       "    }\n",
       "</style>\n",
       "<table border=\"1\" class=\"dataframe\">\n",
       "  <thead>\n",
       "    <tr style=\"text-align: right;\">\n",
       "      <th></th>\n",
       "      <th>Time</th>\n",
       "      <th>V1</th>\n",
       "      <th>V2</th>\n",
       "      <th>V3</th>\n",
       "      <th>V4</th>\n",
       "      <th>V5</th>\n",
       "      <th>V6</th>\n",
       "      <th>V9</th>\n",
       "      <th>V10</th>\n",
       "      <th>V14</th>\n",
       "      <th>V16</th>\n",
       "      <th>V17</th>\n",
       "      <th>V18</th>\n",
       "      <th>V19</th>\n",
       "      <th>V21</th>\n",
       "      <th>Amount</th>\n",
       "      <th>Class</th>\n",
       "    </tr>\n",
       "  </thead>\n",
       "  <tbody>\n",
       "    <tr>\n",
       "      <th>0</th>\n",
       "      <td>0.263980</td>\n",
       "      <td>0.975480</td>\n",
       "      <td>0.768060</td>\n",
       "      <td>0.831231</td>\n",
       "      <td>0.316356</td>\n",
       "      <td>0.766998</td>\n",
       "      <td>0.264401</td>\n",
       "      <td>0.480854</td>\n",
       "      <td>0.492552</td>\n",
       "      <td>0.600237</td>\n",
       "      <td>0.458462</td>\n",
       "      <td>0.764043</td>\n",
       "      <td>0.660305</td>\n",
       "      <td>0.539059</td>\n",
       "      <td>0.556330</td>\n",
       "      <td>0.003900</td>\n",
       "      <td>1</td>\n",
       "    </tr>\n",
       "    <tr>\n",
       "      <th>1</th>\n",
       "      <td>0.996643</td>\n",
       "      <td>0.990015</td>\n",
       "      <td>0.761044</td>\n",
       "      <td>0.827419</td>\n",
       "      <td>0.272936</td>\n",
       "      <td>0.762375</td>\n",
       "      <td>0.261666</td>\n",
       "      <td>0.498740</td>\n",
       "      <td>0.509883</td>\n",
       "      <td>0.645043</td>\n",
       "      <td>0.466434</td>\n",
       "      <td>0.711363</td>\n",
       "      <td>0.663609</td>\n",
       "      <td>0.523826</td>\n",
       "      <td>0.565077</td>\n",
       "      <td>0.003118</td>\n",
       "      <td>0</td>\n",
       "    </tr>\n",
       "    <tr>\n",
       "      <th>2</th>\n",
       "      <td>0.801443</td>\n",
       "      <td>0.934175</td>\n",
       "      <td>0.775426</td>\n",
       "      <td>0.836357</td>\n",
       "      <td>0.182667</td>\n",
       "      <td>0.771340</td>\n",
       "      <td>0.255168</td>\n",
       "      <td>0.478236</td>\n",
       "      <td>0.512373</td>\n",
       "      <td>0.651439</td>\n",
       "      <td>0.464644</td>\n",
       "      <td>0.695678</td>\n",
       "      <td>0.634542</td>\n",
       "      <td>0.499532</td>\n",
       "      <td>0.558385</td>\n",
       "      <td>0.000077</td>\n",
       "      <td>0</td>\n",
       "    </tr>\n",
       "    <tr>\n",
       "      <th>3</th>\n",
       "      <td>0.445359</td>\n",
       "      <td>0.969883</td>\n",
       "      <td>0.781349</td>\n",
       "      <td>0.815875</td>\n",
       "      <td>0.342284</td>\n",
       "      <td>0.774352</td>\n",
       "      <td>0.254664</td>\n",
       "      <td>0.456329</td>\n",
       "      <td>0.463648</td>\n",
       "      <td>0.475218</td>\n",
       "      <td>0.473543</td>\n",
       "      <td>0.848716</td>\n",
       "      <td>0.739162</td>\n",
       "      <td>0.509612</td>\n",
       "      <td>0.555836</td>\n",
       "      <td>0.000039</td>\n",
       "      <td>1</td>\n",
       "    </tr>\n",
       "    <tr>\n",
       "      <th>4</th>\n",
       "      <td>0.463427</td>\n",
       "      <td>0.955610</td>\n",
       "      <td>0.778116</td>\n",
       "      <td>0.869931</td>\n",
       "      <td>0.388904</td>\n",
       "      <td>0.759693</td>\n",
       "      <td>0.278908</td>\n",
       "      <td>0.423913</td>\n",
       "      <td>0.510500</td>\n",
       "      <td>0.658230</td>\n",
       "      <td>0.450287</td>\n",
       "      <td>0.744509</td>\n",
       "      <td>0.673921</td>\n",
       "      <td>0.585011</td>\n",
       "      <td>0.542966</td>\n",
       "      <td>0.000996</td>\n",
       "      <td>1</td>\n",
       "    </tr>\n",
       "  </tbody>\n",
       "</table>\n",
       "</div>"
      ],
      "text/plain": [
       "       Time        V1        V2        V3        V4        V5        V6  \\\n",
       "0  0.263980  0.975480  0.768060  0.831231  0.316356  0.766998  0.264401   \n",
       "1  0.996643  0.990015  0.761044  0.827419  0.272936  0.762375  0.261666   \n",
       "2  0.801443  0.934175  0.775426  0.836357  0.182667  0.771340  0.255168   \n",
       "3  0.445359  0.969883  0.781349  0.815875  0.342284  0.774352  0.254664   \n",
       "4  0.463427  0.955610  0.778116  0.869931  0.388904  0.759693  0.278908   \n",
       "\n",
       "         V9       V10       V14       V16       V17       V18       V19  \\\n",
       "0  0.480854  0.492552  0.600237  0.458462  0.764043  0.660305  0.539059   \n",
       "1  0.498740  0.509883  0.645043  0.466434  0.711363  0.663609  0.523826   \n",
       "2  0.478236  0.512373  0.651439  0.464644  0.695678  0.634542  0.499532   \n",
       "3  0.456329  0.463648  0.475218  0.473543  0.848716  0.739162  0.509612   \n",
       "4  0.423913  0.510500  0.658230  0.450287  0.744509  0.673921  0.585011   \n",
       "\n",
       "        V21    Amount  Class  \n",
       "0  0.556330  0.003900      1  \n",
       "1  0.565077  0.003118      0  \n",
       "2  0.558385  0.000077      0  \n",
       "3  0.555836  0.000039      1  \n",
       "4  0.542966  0.000996      1  "
      ]
     },
     "execution_count": 4,
     "metadata": {},
     "output_type": "execute_result"
    }
   ],
   "source": [
    "df.head()"
   ]
  },
  {
   "cell_type": "markdown",
   "metadata": {},
   "source": [
    "Visualize the data, now we can see that the data is balanced perfectly."
   ]
  },
  {
   "cell_type": "code",
   "execution_count": 5,
   "metadata": {
    "_uuid": "afe2fc3a52f1e38df8d19824cc2b3c3731fee13d"
   },
   "outputs": [
    {
     "data": {
      "text/plain": [
       "<matplotlib.text.Text at 0x24bed8ba080>"
      ]
     },
     "execution_count": 5,
     "metadata": {},
     "output_type": "execute_result"
    },
    {
     "data": {
      "image/png": "[encoded data removed]",
      "text/plain": [
       "<matplotlib.figure.Figure at 0x24bed872a58>"
      ]
     },
     "metadata": {},
     "output_type": "display_data"
    }
   ],
   "source": [
    "count_classes = pd.value_counts(df['Class'], sort = True)\n",
    "count_classes.plot(kind = 'bar', rot=0)\n",
    "plt.title(\"Transaction class distribution\")\n",
    "plt.xticks(range(2), LABELS)\n",
    "plt.xlabel(\"Class\")\n",
    "plt.ylabel(\"Number of Occurances\")"
   ]
  },
  {
   "cell_type": "code",
   "execution_count": 6,
   "metadata": {
    "_uuid": "2b86769b951f840f1559301c9aea36a0460eead1"
   },
   "outputs": [
    {
     "data": {
      "text/plain": [
       "(227446, 17)"
      ]
     },
     "execution_count": 6,
     "metadata": {},
     "output_type": "execute_result"
    }
   ],
   "source": [
    "frauds = df[df.Class == 1]\n",
    "normal = df[df.Class == 0]\n",
    "frauds.shape"
   ]
  },
  {
   "cell_type": "code",
   "execution_count": 7,
   "metadata": {
    "_uuid": "9fb8a2e9a4431096dd3364ee789d5fd3331c5fae"
   },
   "outputs": [
    {
     "data": {
      "text/plain": [
       "(227446, 17)"
      ]
     },
     "execution_count": 7,
     "metadata": {},
     "output_type": "execute_result"
    }
   ],
   "source": [
    "normal.shape"
   ]
  },
  {
   "cell_type": "code",
   "execution_count": 9,
   "metadata": {
    "_uuid": "a849c1627793fa95d4f0cf46d6efb016a7cb10f9"
   },
   "outputs": [
    {
     "data": {
      "text/html": [
       "<div>\n",
       "<style>\n",
       "    .dataframe thead tr:only-child th {\n",
       "        text-align: right;\n",
       "    }\n",
       "\n",
       "    .dataframe thead th {\n",
       "        text-align: left;\n",
       "    }\n",
       "\n",
       "    .dataframe tbody tr th {\n",
       "        vertical-align: top;\n",
       "    }\n",
       "</style>\n",
       "<table border=\"1\" class=\"dataframe\">\n",
       "  <thead>\n",
       "    <tr style=\"text-align: right;\">\n",
       "      <th></th>\n",
       "      <th>Time</th>\n",
       "      <th>V1</th>\n",
       "      <th>V2</th>\n",
       "      <th>V3</th>\n",
       "      <th>V4</th>\n",
       "      <th>V5</th>\n",
       "      <th>V6</th>\n",
       "      <th>V9</th>\n",
       "      <th>V10</th>\n",
       "      <th>V14</th>\n",
       "      <th>V16</th>\n",
       "      <th>V17</th>\n",
       "      <th>V18</th>\n",
       "      <th>V19</th>\n",
       "      <th>V21</th>\n",
       "      <th>Amount</th>\n",
       "      <th>Class</th>\n",
       "    </tr>\n",
       "  </thead>\n",
       "  <tbody>\n",
       "    <tr>\n",
       "      <th>0</th>\n",
       "      <td>0.263980</td>\n",
       "      <td>0.975480</td>\n",
       "      <td>0.768060</td>\n",
       "      <td>0.831231</td>\n",
       "      <td>0.316356</td>\n",
       "      <td>0.766998</td>\n",
       "      <td>0.264401</td>\n",
       "      <td>0.480854</td>\n",
       "      <td>0.492552</td>\n",
       "      <td>0.600237</td>\n",
       "      <td>0.458462</td>\n",
       "      <td>0.764043</td>\n",
       "      <td>0.660305</td>\n",
       "      <td>0.539059</td>\n",
       "      <td>0.556330</td>\n",
       "      <td>0.003900</td>\n",
       "      <td>1</td>\n",
       "    </tr>\n",
       "    <tr>\n",
       "      <th>1</th>\n",
       "      <td>0.996643</td>\n",
       "      <td>0.990015</td>\n",
       "      <td>0.761044</td>\n",
       "      <td>0.827419</td>\n",
       "      <td>0.272936</td>\n",
       "      <td>0.762375</td>\n",
       "      <td>0.261666</td>\n",
       "      <td>0.498740</td>\n",
       "      <td>0.509883</td>\n",
       "      <td>0.645043</td>\n",
       "      <td>0.466434</td>\n",
       "      <td>0.711363</td>\n",
       "      <td>0.663609</td>\n",
       "      <td>0.523826</td>\n",
       "      <td>0.565077</td>\n",
       "      <td>0.003118</td>\n",
       "      <td>0</td>\n",
       "    </tr>\n",
       "    <tr>\n",
       "      <th>2</th>\n",
       "      <td>0.801443</td>\n",
       "      <td>0.934175</td>\n",
       "      <td>0.775426</td>\n",
       "      <td>0.836357</td>\n",
       "      <td>0.182667</td>\n",
       "      <td>0.771340</td>\n",
       "      <td>0.255168</td>\n",
       "      <td>0.478236</td>\n",
       "      <td>0.512373</td>\n",
       "      <td>0.651439</td>\n",
       "      <td>0.464644</td>\n",
       "      <td>0.695678</td>\n",
       "      <td>0.634542</td>\n",
       "      <td>0.499532</td>\n",
       "      <td>0.558385</td>\n",
       "      <td>0.000077</td>\n",
       "      <td>0</td>\n",
       "    </tr>\n",
       "    <tr>\n",
       "      <th>3</th>\n",
       "      <td>0.445359</td>\n",
       "      <td>0.969883</td>\n",
       "      <td>0.781349</td>\n",
       "      <td>0.815875</td>\n",
       "      <td>0.342284</td>\n",
       "      <td>0.774352</td>\n",
       "      <td>0.254664</td>\n",
       "      <td>0.456329</td>\n",
       "      <td>0.463648</td>\n",
       "      <td>0.475218</td>\n",
       "      <td>0.473543</td>\n",
       "      <td>0.848716</td>\n",
       "      <td>0.739162</td>\n",
       "      <td>0.509612</td>\n",
       "      <td>0.555836</td>\n",
       "      <td>0.000039</td>\n",
       "      <td>1</td>\n",
       "    </tr>\n",
       "    <tr>\n",
       "      <th>4</th>\n",
       "      <td>0.463427</td>\n",
       "      <td>0.955610</td>\n",
       "      <td>0.778116</td>\n",
       "      <td>0.869931</td>\n",
       "      <td>0.388904</td>\n",
       "      <td>0.759693</td>\n",
       "      <td>0.278908</td>\n",
       "      <td>0.423913</td>\n",
       "      <td>0.510500</td>\n",
       "      <td>0.658230</td>\n",
       "      <td>0.450287</td>\n",
       "      <td>0.744509</td>\n",
       "      <td>0.673921</td>\n",
       "      <td>0.585011</td>\n",
       "      <td>0.542966</td>\n",
       "      <td>0.000996</td>\n",
       "      <td>1</td>\n",
       "    </tr>\n",
       "  </tbody>\n",
       "</table>\n",
       "</div>"
      ],
      "text/plain": [
       "       Time        V1        V2        V3        V4        V5        V6  \\\n",
       "0  0.263980  0.975480  0.768060  0.831231  0.316356  0.766998  0.264401   \n",
       "1  0.996643  0.990015  0.761044  0.827419  0.272936  0.762375  0.261666   \n",
       "2  0.801443  0.934175  0.775426  0.836357  0.182667  0.771340  0.255168   \n",
       "3  0.445359  0.969883  0.781349  0.815875  0.342284  0.774352  0.254664   \n",
       "4  0.463427  0.955610  0.778116  0.869931  0.388904  0.759693  0.278908   \n",
       "\n",
       "         V9       V10       V14       V16       V17       V18       V19  \\\n",
       "0  0.480854  0.492552  0.600237  0.458462  0.764043  0.660305  0.539059   \n",
       "1  0.498740  0.509883  0.645043  0.466434  0.711363  0.663609  0.523826   \n",
       "2  0.478236  0.512373  0.651439  0.464644  0.695678  0.634542  0.499532   \n",
       "3  0.456329  0.463648  0.475218  0.473543  0.848716  0.739162  0.509612   \n",
       "4  0.423913  0.510500  0.658230  0.450287  0.744509  0.673921  0.585011   \n",
       "\n",
       "        V21    Amount  Class  \n",
       "0  0.556330  0.003900      1  \n",
       "1  0.565077  0.003118      0  \n",
       "2  0.558385  0.000077      0  \n",
       "3  0.555836  0.000039      1  \n",
       "4  0.542966  0.000996      1  "
      ]
     },
     "execution_count": 9,
     "metadata": {},
     "output_type": "execute_result"
    }
   ],
   "source": [
    "data.head()"
   ]
  },
  {
   "cell_type": "code",
   "execution_count": 10,
   "metadata": {
    "collapsed": true
   },
   "outputs": [],
   "source": [
    "y_train = df['Class']\n",
    "x_train = df.drop('Class',axis=1)\n",
    "y_val = test_df['Class']\n",
    "x_val = test_df.drop('Class',axis=1)"
   ]
  },
  {
   "cell_type": "code",
   "execution_count": 12,
   "metadata": {
    "_cell_guid": "275f6996-17a8-41b3-a703-8e13fa326db0",
    "_uuid": "aa352f7ba967a9767f7c1df733d1bcdb21befafe",
    "collapsed": true
   },
   "outputs": [],
   "source": [
    "data = df"
   ]
  },
  {
   "cell_type": "code",
   "execution_count": 13,
   "metadata": {
    "_uuid": "bc7d76a579a9f0109bb0a0b30c4f6e6479b51c70"
   },
   "outputs": [
    {
     "name": "stdout",
     "output_type": "stream",
     "text": [
      "454892\n"
     ]
    }
   ],
   "source": [
    "print(len(df))"
   ]
  },
  {
   "cell_type": "markdown",
   "metadata": {},
   "source": [
    "Training the data with RandomForest. "
   ]
  },
  {
   "cell_type": "code",
   "execution_count": 14,
   "metadata": {
    "_uuid": "233565e85deef10fc43c97e26ffed3dbabd46639"
   },
   "outputs": [
    {
     "data": {
      "text/plain": [
       "RandomForestClassifier(bootstrap=True, class_weight=None, criterion='gini',\n",
       "            max_depth=15, max_features=None, max_leaf_nodes=200,\n",
       "            min_impurity_decrease=0.0, min_impurity_split=None,\n",
       "            min_samples_leaf=1, min_samples_split=2,\n",
       "            min_weight_fraction_leaf=0.0, n_estimators=5, n_jobs=1,\n",
       "            oob_score=False, random_state=12, verbose=0, warm_start=False)"
      ]
     },
     "execution_count": 14,
     "metadata": {},
     "output_type": "execute_result"
    }
   ],
   "source": [
    "clf_rf = RandomForestClassifier(bootstrap=True, class_weight=None, criterion='gini',\n",
    "            max_depth=15, max_features=None, max_leaf_nodes=200,#None,#\n",
    "            min_impurity_decrease=0.0, min_impurity_split=None,\n",
    "            min_samples_leaf=1, min_samples_split=2,\n",
    "            min_weight_fraction_leaf=0.0, n_estimators=5, n_jobs=1,\n",
    "            oob_score=False, random_state=12, verbose=0, warm_start=False)\n",
    "clf_rf.fit(x_train, y_train)"
   ]
  },
  {
   "cell_type": "code",
   "execution_count": 15,
   "metadata": {
    "_uuid": "70c5dfdfda3944f6631b7798b497af52623f1ae0"
   },
   "outputs": [
    {
     "name": "stdout",
     "output_type": "stream",
     "text": [
      "[[56369   500]\n",
      " [   11    82]]\n"
     ]
    }
   ],
   "source": [
    "from sklearn.metrics import (confusion_matrix, recall_score, classification_report, f1_score,\n",
    "                             precision_recall_fscore_support)\n",
    "output = clf_rf.predict(x_val)\n",
    "conf_matrix = confusion_matrix(y_val, output)\n",
    "print(conf_matrix)"
   ]
  },
  {
   "cell_type": "markdown",
   "metadata": {},
   "source": [
    "Accuracy with Random forest."
   ]
  },
  {
   "cell_type": "code",
   "execution_count": 16,
   "metadata": {
    "_uuid": "ad18cef78e9c55d9e4d0e33266666fcf3de055a6"
   },
   "outputs": [
    {
     "name": "stdout",
     "output_type": "stream",
     "text": [
      "Overall accuracy =  0.991029107124\n"
     ]
    }
   ],
   "source": [
    "print('Overall accuracy = ', (conf_matrix[0][0] + conf_matrix[1][1])/(conf_matrix[0][0] + conf_matrix[1][1] \n",
    "                                                                    + conf_matrix[0][1] + conf_matrix[1][0]))"
   ]
  },
  {
   "cell_type": "markdown",
   "metadata": {},
   "source": [
    "Creating Classification Report."
   ]
  },
  {
   "cell_type": "code",
   "execution_count": 17,
   "metadata": {
    "_uuid": "721cd07e85cb23ea5383af0f821871fbe6e13217"
   },
   "outputs": [
    {
     "name": "stdout",
     "output_type": "stream",
     "text": [
      "             precision    recall  f1-score   support\n",
      "\n",
      "    class 0       1.00      0.99      1.00     56869\n",
      "    class 1       0.14      0.88      0.24        93\n",
      "\n",
      "avg / total       1.00      0.99      0.99     56962\n",
      "\n"
     ]
    }
   ],
   "source": [
    "target_names = ['class 0', 'class 1']\n",
    "print(classification_report(y_val, output, target_names=target_names))"
   ]
  },
  {
   "cell_type": "markdown",
   "metadata": {},
   "source": [
    "Training the data with Gradient Boosting Classifier."
   ]
  },
  {
   "cell_type": "code",
   "execution_count": 19,
   "metadata": {
    "_uuid": "4a1d998f06aca445d0421d51c2c30d9a0abead42"
   },
   "outputs": [
    {
     "data": {
      "text/plain": [
       "\"clf = GradientBoostingClassifier(loss='deviance', \\n                                 n_estimators=10,\\n                                 learning_rate=0.5,\\n                                 max_depth = 6, \\n                                 random_state=0,\\n                                 max_features = 'sqrt',\\n                                 subsample=0.5).fit(x_train, y_train)\""
      ]
     },
     "execution_count": 19,
     "metadata": {},
     "output_type": "execute_result"
    }
   ],
   "source": [
    "from sklearn.ensemble import GradientBoostingClassifier\n",
    "\n",
    "clf = GradientBoostingClassifier(max_features = 'sqrt',\n",
    "                                     n_estimators=5,\n",
    "                                     learning_rate = 0.1,\n",
    "                                     max_depth = 6,\n",
    "                                     subsample = 0.5).fit(x_train, y_train)"
   ]
  },
  {
   "cell_type": "markdown",
   "metadata": {},
   "source": [
    "Calculating Accuracy."
   ]
  },
  {
   "cell_type": "code",
   "execution_count": 20,
   "metadata": {
    "_uuid": "52d60658afa1568ca5d9acbec5e714ada6676201"
   },
   "outputs": [
    {
     "name": "stdout",
     "output_type": "stream",
     "text": [
      "[[56297   572]\n",
      " [    9    84]]\n"
     ]
    }
   ],
   "source": [
    "from sklearn.metrics import (confusion_matrix, recall_score, classification_report, f1_score,\n",
    "                             precision_recall_fscore_support)\n",
    "output = clf.predict(x_val)\n",
    "conf_matrix = confusion_matrix(y_val, output)\n",
    "print(conf_matrix)"
   ]
  },
  {
   "cell_type": "code",
   "execution_count": 21,
   "metadata": {
    "_uuid": "def707f44ffeee65cacbd2f48e51f9e9fc5378e8"
   },
   "outputs": [
    {
     "name": "stdout",
     "output_type": "stream",
     "text": [
      "Overall accuracy =  0.989800217689\n"
     ]
    }
   ],
   "source": [
    "print('Overall accuracy = ', (conf_matrix[0][0] + conf_matrix[1][1])/(conf_matrix[0][0] + conf_matrix[1][1] \n",
    "                                                                    + conf_matrix[0][1] + conf_matrix[1][0]))"
   ]
  },
  {
   "cell_type": "markdown",
   "metadata": {},
   "source": [
    "Creating Classification Report."
   ]
  },
  {
   "cell_type": "code",
   "execution_count": 22,
   "metadata": {
    "_uuid": "3c50413276cfcb9e2da0f795007f9e2b9a08bc6b"
   },
   "outputs": [
    {
     "name": "stdout",
     "output_type": "stream",
     "text": [
      "             precision    recall  f1-score   support\n",
      "\n",
      "    class 0       1.00      0.99      0.99     56869\n",
      "    class 1       0.13      0.90      0.22        93\n",
      "\n",
      "avg / total       1.00      0.99      0.99     56962\n",
      "\n"
     ]
    }
   ],
   "source": [
    "target_names = ['class 0', 'class 1']\n",
    "print(classification_report(y_val, output, target_names=target_names))"
   ]
  },
  {
   "cell_type": "code",
   "execution_count": 24,
   "metadata": {
    "_uuid": "022c04e34e8560a210b84a8f8b02197c2b6a8ba4"
   },
   "outputs": [
    {
     "data": {
      "text/plain": [
       "LogisticRegression(C=0.1, class_weight=None, dual=False, fit_intercept=True,\n",
       "          intercept_scaling=1, max_iter=10, multi_class='ovr', n_jobs=1,\n",
       "          penalty='l2', random_state=1, solver='liblinear', tol=0.0001,\n",
       "          verbose=0, warm_start=False)"
      ]
     },
     "execution_count": 24,
     "metadata": {},
     "output_type": "execute_result"
    }
   ],
   "source": [
    "from sklearn.linear_model import LogisticRegression\n",
    "clf1 = LogisticRegression(C=0.1, class_weight=None, dual=False, fit_intercept=True,\n",
    "          intercept_scaling=1, max_iter=10, multi_class='ovr', n_jobs=1,\n",
    "          penalty='l2', random_state=1, solver='liblinear', tol=0.0001,\n",
    "          verbose=0, warm_start=False)\n",
    "clf1.fit(x_train, y_train)"
   ]
  },
  {
   "cell_type": "code",
   "execution_count": 25,
   "metadata": {
    "_uuid": "e214fb117af1331de73a70112a1a4d45980739a2"
   },
   "outputs": [
    {
     "name": "stdout",
     "output_type": "stream",
     "text": [
      "[[55630  1239]\n",
      " [    7    86]]\n"
     ]
    }
   ],
   "source": [
    "from sklearn.metrics import (confusion_matrix, recall_score, classification_report, f1_score,\n",
    "                             precision_recall_fscore_support)\n",
    "output = clf1.predict(x_val)\n",
    "conf_matrix = confusion_matrix(y_val, output)\n",
    "print(conf_matrix)"
   ]
  },
  {
   "cell_type": "code",
   "execution_count": 26,
   "metadata": {
    "_uuid": "89eec906c5d4cf3f772d90d2cb32dfd37b824452"
   },
   "outputs": [
    {
     "name": "stdout",
     "output_type": "stream",
     "text": [
      "Overall accuracy =  0.978125768056\n"
     ]
    }
   ],
   "source": [
    "print('Overall accuracy = ', (conf_matrix[0][0] + conf_matrix[1][1])/(conf_matrix[0][0] + conf_matrix[1][1] \n",
    "                                                                    + conf_matrix[0][1] + conf_matrix[1][0]))"
   ]
  },
  {
   "cell_type": "code",
   "execution_count": 27,
   "metadata": {
    "_uuid": "d7ecc967763ec3824aa10202a2d720cfdb338042"
   },
   "outputs": [
    {
     "name": "stdout",
     "output_type": "stream",
     "text": [
      "             precision    recall  f1-score   support\n",
      "\n",
      "    class 0       1.00      0.98      0.99     56869\n",
      "    class 1       0.06      0.92      0.12        93\n",
      "\n",
      "avg / total       1.00      0.98      0.99     56962\n",
      "\n"
     ]
    }
   ],
   "source": [
    "target_names = ['class 0', 'class 1']\n",
    "print(classification_report(y_val, output, target_names=target_names))"
   ]
  },
  {
   "cell_type": "code",
   "execution_count": 29,
   "metadata": {},
   "outputs": [
    {
     "data": {
      "text/plain": [
       "DecisionTreeClassifier(class_weight=None, criterion='gini', max_depth=6,\n",
       "            max_features=None, max_leaf_nodes=None,\n",
       "            min_impurity_decrease=0.0, min_impurity_split=None,\n",
       "            min_samples_leaf=1, min_samples_split=2,\n",
       "            min_weight_fraction_leaf=0.0, presort=False, random_state=120,\n",
       "            splitter='best')"
      ]
     },
     "execution_count": 29,
     "metadata": {},
     "output_type": "execute_result"
    }
   ],
   "source": [
    "from sklearn.tree import DecisionTreeClassifier\n",
    "dt_clf = DecisionTreeClassifier(class_weight=None, criterion='gini', \n",
    "            max_features=None, max_leaf_nodes=None,\n",
    "            min_impurity_decrease=0.0, min_impurity_split=None,\n",
    "            min_samples_leaf=1, max_depth=6,min_samples_split=2,\n",
    "            min_weight_fraction_leaf=0.0, presort=False, random_state=120,\n",
    "            splitter='best')            #Keep max depth < 15\n",
    "dt_clf.fit(x_train, y_train)"
   ]
  },
  {
   "cell_type": "code",
   "execution_count": 30,
   "metadata": {},
   "outputs": [
    {
     "name": "stdout",
     "output_type": "stream",
     "text": [
      "[[54683  2186]\n",
      " [    8    85]]\n"
     ]
    }
   ],
   "source": [
    "from sklearn.metrics import (confusion_matrix, recall_score, classification_report, f1_score,\n",
    "                             precision_recall_fscore_support)\n",
    "output = dt_clf.predict(x_val)\n",
    "conf_matrix = confusion_matrix(y_val, output)\n",
    "print(conf_matrix)"
   ]
  },
  {
   "cell_type": "code",
   "execution_count": 31,
   "metadata": {},
   "outputs": [
    {
     "name": "stdout",
     "output_type": "stream",
     "text": [
      "Overall accuracy =  0.961483093992\n",
      "Classifier name =  DecisionTreeClassifier  Accuracy =  0.961483093992\n"
     ]
    }
   ],
   "source": [
    "dt_clf_acc = (conf_matrix[0][0] + conf_matrix[1][1])/(conf_matrix[0][0] + conf_matrix[1][1] \n",
    "                                                                    + conf_matrix[0][1] + conf_matrix[1][0])\n",
    "print('Overall accuracy = ', dt_clf_acc)\n",
    "print('Classifier name = ', dt_clf.__class__.__name__,' Accuracy = ' , dt_clf_acc)"
   ]
  },
  {
   "cell_type": "code",
   "execution_count": 33,
   "metadata": {},
   "outputs": [
    {
     "data": {
      "text/plain": [
       "LinearSVC(C=1.0, class_weight=None, dual=True, fit_intercept=True,\n",
       "     intercept_scaling=1, loss='squared_hinge', max_iter=200,\n",
       "     multi_class='ovr', penalty='l2', random_state=None, tol=0.1,\n",
       "     verbose=0)"
      ]
     },
     "execution_count": 33,
     "metadata": {},
     "output_type": "execute_result"
    }
   ],
   "source": [
    "from sklearn.svm import LinearSVC\n",
    "linsvc_clf = LinearSVC(loss='squared_hinge', dual=True, tol=0.1, C=1.0, multi_class='ovr', fit_intercept=True,penalty='l2', \n",
    "                                               intercept_scaling=1, random_state=None, max_iter=200)\n",
    "linsvc_clf.fit(x_train, y_train) # doctest : +ELLIPSIS\n",
    "#keep max iters - 50 - 11% , 70 - 8% , 200 - 89%"
   ]
  },
  {
   "cell_type": "code",
   "execution_count": 34,
   "metadata": {},
   "outputs": [
    {
     "name": "stdout",
     "output_type": "stream",
     "text": [
      "[[55711  1158]\n",
      " [    8    85]]\n"
     ]
    }
   ],
   "source": [
    "output = linsvc_clf.predict(x_val)\n",
    "from sklearn.metrics import confusion_matrix\n",
    "cm = confusion_matrix(y_val, output)    \n",
    "print(cm)"
   ]
  },
  {
   "cell_type": "code",
   "execution_count": 35,
   "metadata": {},
   "outputs": [
    {
     "name": "stdout",
     "output_type": "stream",
     "text": [
      "Accuracy =  0.979530213125\n",
      "Classifier name =  LinearSVC  Accuracy =  0.979530213125\n"
     ]
    }
   ],
   "source": [
    "linsvc_clf_acc = (cm[0][0]+cm[1][1])/(cm[0][0]+cm[1][1]+cm[0][1]+cm[1][0])\n",
    "print(\"Accuracy = \" , linsvc_clf_acc)\n",
    "print('Classifier name = ', linsvc_clf.__class__.__name__,' Accuracy = ' , linsvc_clf_acc)"
   ]
  },
  {
   "cell_type": "code",
   "execution_count": 36,
   "metadata": {},
   "outputs": [
    {
     "name": "stdout",
     "output_type": "stream",
     "text": [
      "             precision    recall  f1-score   support\n",
      "\n",
      "    class 0       1.00      0.98      0.99     56869\n",
      "    class 1       0.07      0.91      0.13        93\n",
      "\n",
      "avg / total       1.00      0.98      0.99     56962\n",
      "\n"
     ]
    }
   ],
   "source": [
    "from sklearn.metrics import (confusion_matrix, recall_score, classification_report, f1_score,\n",
    "                             precision_recall_fscore_support)\n",
    "target_names = ['class 0', 'class 1']\n",
    "print(classification_report(y_val, output, target_names=target_names))"
   ]
  },
  {
   "cell_type": "code",
   "execution_count": 38,
   "metadata": {
    "collapsed": true
   },
   "outputs": [],
   "source": [
    "from sklearn.ensemble import AdaBoostClassifier\n",
    "clf5=AdaBoostClassifier(n_estimators=10,random_state=42).fit(x_train, y_train)\n"
   ]
  },
  {
   "cell_type": "code",
   "execution_count": 39,
   "metadata": {},
   "outputs": [
    {
     "name": "stdout",
     "output_type": "stream",
     "text": [
      "[[54747  2122]\n",
      " [    8    85]]\n"
     ]
    }
   ],
   "source": [
    "output = clf5.predict(x_val)\n",
    "from sklearn.metrics import confusion_matrix\n",
    "cm = confusion_matrix(y_val, output)    \n",
    "print(cm) "
   ]
  },
  {
   "cell_type": "code",
   "execution_count": 40,
   "metadata": {},
   "outputs": [
    {
     "name": "stdout",
     "output_type": "stream",
     "text": [
      "Accuracy =  0.962606650047\n"
     ]
    }
   ],
   "source": [
    "print(\"Accuracy = \" , (cm[0][0]+cm[1][1])/(cm[0][0]+cm[1][1]+cm[0][1]+cm[1][0]))"
   ]
  },
  {
   "cell_type": "code",
   "execution_count": 41,
   "metadata": {},
   "outputs": [
    {
     "name": "stdout",
     "output_type": "stream",
     "text": [
      "             precision    recall  f1-score   support\n",
      "\n",
      "    class 0       1.00      0.96      0.98     56869\n",
      "    class 1       0.04      0.91      0.07        93\n",
      "\n",
      "avg / total       1.00      0.96      0.98     56962\n",
      "\n"
     ]
    }
   ],
   "source": [
    "from sklearn.metrics import (confusion_matrix, recall_score, classification_report, f1_score,\n",
    "                             precision_recall_fscore_support)\n",
    "target_names = ['class 0', 'class 1']\n",
    "print(classification_report(y_val, output, target_names=target_names))"
   ]
  },
  {
   "cell_type": "code",
   "execution_count": 43,
   "metadata": {
    "_uuid": "4f5afba44d0c0362ecb372934d47d976e7bb31e1"
   },
   "outputs": [
    {
     "name": "stdout",
     "output_type": "stream",
     "text": [
      "454892\n"
     ]
    }
   ],
   "source": [
    "print(len(data))"
   ]
  },
  {
   "cell_type": "code",
   "execution_count": 46,
   "metadata": {},
   "outputs": [],
   "source": [
    "data_nn = data\n",
    "train_y = data_nn.iloc[:,-1]\n",
    "train_x = []\n",
    "del data_nn['Class']\n",
    "\n",
    "for row in data_nn.iterrows():\n",
    "    index, data = row\n",
    "    train_x.append(data.tolist())\n",
    "\n",
    "test_y = test_df.iloc[:,-1]\n",
    "test_x = []\n",
    "del test_df['Class']\n",
    "\n",
    "for row in test_df.iterrows():\n",
    "    index, da = row\n",
    "    test_x.append(da.tolist())"
   ]
  },
  {
   "cell_type": "markdown",
   "metadata": {},
   "source": [
    "Creating an architechture for Neural network to train on the data."
   ]
  },
  {
   "cell_type": "code",
   "execution_count": 47,
   "metadata": {},
   "outputs": [
    {
     "name": "stdout",
     "output_type": "stream",
     "text": [
      "Network outline created !!! with 3 hidden layers with  100  neurons each !!!\n"
     ]
    }
   ],
   "source": [
    "# hidden layers and their nodes\n",
    "input_nodes = 18\n",
    "\n",
    "n_nodes_hl1 = 100\n",
    "n_nodes_hl2 = 100\n",
    "n_nodes_hl3 = 100\n",
    "\n",
    "\n",
    "# classes in our output\n",
    "n_classes = 2\n",
    "\n",
    "# iterations and ba0tch-size\n",
    "hm_epochs = 10\n",
    "batch_size = 1024\n",
    "\n",
    "x = tf.placeholder('float32')\n",
    "y = tf.placeholder('int64')\n",
    "\n",
    "#x=tf.FixedLenFeature(shape=[3], dtype=tf.float32)\n",
    "#y=tf.FixedLenFeature(shape=[2], dtype=tf.int64)\n",
    "\n",
    "# random weights and bias for our layers\n",
    "hidden_1_layer = {'f_fum':n_nodes_hl1, #tf.random_normal([len(train_x[0])\n",
    "                  'weight':tf.Variable(tf.random_normal([len(train_x[0]) , n_nodes_hl1]), name='HL1'),\n",
    "                  'bias':tf.Variable(tf.random_normal([n_nodes_hl1]))}\n",
    "\n",
    "hidden_2_layer = {'f_fum':n_nodes_hl2,\n",
    "                  'weight':tf.Variable(tf.random_normal([n_nodes_hl1, n_nodes_hl2], name='HL2')),\n",
    "                  'bias':tf.Variable(tf.random_normal([n_nodes_hl2]))}\n",
    "\n",
    "hidden_3_layer = {'f_fum':n_nodes_hl3,\n",
    "                  'weight' : tf.Variable(tf.random_normal([n_nodes_hl2,n_nodes_hl3], name='HL3')),\n",
    "                  'bias' : tf.Variable(tf.random_normal([n_nodes_hl3]))}\n",
    "\n",
    "output_layer = {'f_fum':n_classes,\n",
    "                'weight':tf.Variable(tf.random_normal([n_nodes_hl3, n_classes]), name='OL'),\n",
    "                'bias':tf.Variable(tf.random_normal([n_classes]))}\n",
    "\n",
    "print(\"Network outline created !!! with 3 hidden layers with \",n_nodes_hl1, \" neurons each !!!\")"
   ]
  },
  {
   "cell_type": "code",
   "execution_count": 48,
   "metadata": {},
   "outputs": [
    {
     "name": "stdout",
     "output_type": "stream",
     "text": [
      "Activation functions started !!!\n"
     ]
    }
   ],
   "source": [
    "# hidden layer 1: (data * W) + b\n",
    "l1 = tf.nn.softmax(tf.matmul(x,hidden_1_layer['weight']) +  hidden_1_layer['bias'])\n",
    "l1=tf.nn.relu(l1)\n",
    "\n",
    "# hidden layer 2: (hidden_layer_1 * W) + b\n",
    "l2 = tf.nn.softmax(tf.matmul(l1,hidden_2_layer['weight']) +  hidden_2_layer['bias'])\n",
    "l2=tf.nn.relu(l2)\n",
    "\n",
    "# hidden layer 3: (hidden_layer_2 * W) + b\n",
    "l3 = tf.nn.softmax(tf.matmul(l2,hidden_3_layer['weight']) +  hidden_3_layer['bias'])\n",
    "l3=tf.nn.relu(l3)\n",
    "\n",
    "output = tf.nn.softmax(tf.matmul(l3,output_layer['weight']) +  output_layer['bias'])\n",
    "print(\"Activation functions started !!!\")"
   ]
  },
  {
   "cell_type": "markdown",
   "metadata": {},
   "source": [
    "Training the data using tensorflow based neural network."
   ]
  },
  {
   "cell_type": "code",
   "execution_count": 49,
   "metadata": {},
   "outputs": [
    {
     "name": "stdout",
     "output_type": "stream",
     "text": [
      "Epoch 0 completed out of 10 cost: 0.49191\n",
      "Epoch 2 completed out of 10 cost: 0.365005\n",
      "Epoch 4 completed out of 10 cost: 0.355767\n",
      "Epoch 6 completed out of 10 cost: 0.352887\n",
      "Epoch 8 completed out of 10 cost: 0.351749\n",
      "Accuracy -  Tensor(\"Mean_1:0\", dtype=float32)\n",
      "Model saved in file: ./model.ckpt\n",
      "saved\n"
     ]
    }
   ],
   "source": [
    "prediction = output\n",
    "cost = tf.reduce_mean(tf.nn.sparse_softmax_cross_entropy_with_logits(logits=prediction, labels=(y)))\n",
    "#cost = tf.reduce_mean(tf.nn.softmax_cross_entropy_with_logits(logits=prediction, labels=(y)))\n",
    "\n",
    "optimizer = tf.train.AdamOptimizer().minimize(cost)\n",
    "\n",
    "epoch_list = []\n",
    "cost_list = []\n",
    "    # Tensorflow session\n",
    "with tf.Session() as sess:\n",
    "    # initialize our variables\n",
    "    init_op = tf.global_variables_initializer() \n",
    "    sess.run(init_op)\n",
    "    # loop through specified number of iterations\n",
    "    for epoch in range(hm_epochs):\n",
    "        epoch_loss = 0\n",
    "        i=0\n",
    "        # handle batch sized chunks of training data\n",
    "        while i < len(train_x):\n",
    "            start = i\n",
    "            end = i+batch_size\n",
    "            batch_x = np.array(train_x[start:end])            #(train_x[start:end])\n",
    "            batch_y = np.array(train_y[start:end])            #(train_y[start:end])\n",
    "            opti, c = sess.run([optimizer, cost], feed_dict={x: batch_x, y: batch_y})\n",
    "            epoch_loss += c\n",
    "            i+=batch_size\n",
    "            last_cost = c\n",
    "        #print cost updates \n",
    "        cost_list.append(last_cost)\n",
    "        epoch_list.append(epoch)\n",
    "        if (epoch% (hm_epochs/5)) == 0:\n",
    "            print('Epoch', epoch, 'completed out of',hm_epochs,'cost:', last_cost)\n",
    "    correct = tf.equal(tf.argmax(prediction, 1), (y))\n",
    "    saver = tf.train.Saver(tf.global_variables())\n",
    "    accuracy = tf.reduce_mean(tf.cast(correct, tf.float32))\n",
    "    print('Accuracy - ' , accuracy)\n",
    "    save_path = saver.save(sess, \"./model.ckpt\")\n",
    "    print(\"Model saved in file: %s\" % save_path)\n",
    "    print(\"saved\")"
   ]
  },
  {
   "cell_type": "code",
   "execution_count": 50,
   "metadata": {},
   "outputs": [
    {
     "data": {
      "image/png": "[encoded data removed]",
      "text/plain": [
       "<matplotlib.figure.Figure at 0x24bed8531d0>"
      ]
     },
     "metadata": {},
     "output_type": "display_data"
    }
   ],
   "source": [
    "from pylab import *\n",
    "t = epoch_list\n",
    "s = cost_list\n",
    "plot(t,s)\n",
    "xlabel('Number of Epochs')\n",
    "ylabel('Cost from learning')\n",
    "title('Cost Vs. Epochs (Line Chart)')\n",
    "grid(True)\n",
    "plt.savefig('loss.png')\n",
    "show()"
   ]
  },
  {
   "cell_type": "markdown",
   "metadata": {},
   "source": [
    "Reading the model back in memory."
   ]
  },
  {
   "cell_type": "code",
   "execution_count": 51,
   "metadata": {},
   "outputs": [
    {
     "name": "stdout",
     "output_type": "stream",
     "text": [
      "INFO:tensorflow:Restoring parameters from ./model.ckpt\n",
      "Model restored.\n",
      "Accuracy: 0.984112\n",
      "Output is [0 0 0 ..., 0 0 0]\n",
      "The confusion matrix is = \n",
      "[[55973   896]\n",
      " [    9    84]]\n"
     ]
    }
   ],
   "source": [
    "with tf.Session() as sess:\n",
    "    prediction = output\n",
    "    saver = tf.train.Saver(tf.global_variables())\n",
    "    # Restore variables from disk.\n",
    "    saver.restore(sess, \"./model.ckpt\")\n",
    "    correct = tf.equal(tf.argmax(prediction, 1), (y))\n",
    "    print(\"Model restored.\")\n",
    "    # Check the values of the variables\n",
    "    accuracy = tf.reduce_mean(tf.cast(correct, tf.float32))\n",
    "    print('Accuracy:',accuracy.eval({x:test_x, y:test_y}))\n",
    "    output_pred= sess.run(tf.argmax(prediction,1),feed_dict={x: test_x})\n",
    "    print('Output is' , output_pred)\n",
    "    \n",
    "print('The confusion matrix is = ')\n",
    "\n",
    "cm = confusion_matrix(test_y, output_pred)    \n",
    "print(cm)  "
   ]
  },
  {
   "cell_type": "code",
   "execution_count": 68,
   "metadata": {},
   "outputs": [
    {
     "name": "stdout",
     "output_type": "stream",
     "text": [
      "Overall accuracy =  0.984112215161\n"
     ]
    }
   ],
   "source": [
    "acc_nn = (cm[0][0] + cm[1][1])/(cm[0][0] + cm[1][1] + cm[0][1] + cm[1][0])\n",
    "print('Overall accuracy = ', acc_nn)"
   ]
  },
  {
   "cell_type": "markdown",
   "metadata": {},
   "source": [
    "Starting the data preparation for training with Deep Auto Encoder.\n",
    "Here we separate the normal data and fraud data and train the DAE on normal data forcing it to have lower error for Normal data and then when it sees the fraud data the error for recreation is high and then we can say this particular transaction is fraud because the error is high."
   ]
  },
  {
   "cell_type": "code",
   "execution_count": 52,
   "metadata": {},
   "outputs": [
    {
     "data": {
      "text/html": [
       "<div>\n",
       "<style>\n",
       "    .dataframe thead tr:only-child th {\n",
       "        text-align: right;\n",
       "    }\n",
       "\n",
       "    .dataframe thead th {\n",
       "        text-align: left;\n",
       "    }\n",
       "\n",
       "    .dataframe tbody tr th {\n",
       "        vertical-align: top;\n",
       "    }\n",
       "</style>\n",
       "<table border=\"1\" class=\"dataframe\">\n",
       "  <thead>\n",
       "    <tr style=\"text-align: right;\">\n",
       "      <th></th>\n",
       "      <th>Time</th>\n",
       "      <th>V1</th>\n",
       "      <th>V2</th>\n",
       "      <th>V3</th>\n",
       "      <th>V4</th>\n",
       "      <th>V5</th>\n",
       "      <th>V6</th>\n",
       "      <th>V9</th>\n",
       "      <th>V10</th>\n",
       "      <th>V14</th>\n",
       "      <th>V16</th>\n",
       "      <th>V17</th>\n",
       "      <th>V18</th>\n",
       "      <th>V19</th>\n",
       "      <th>V21</th>\n",
       "      <th>Amount</th>\n",
       "      <th>Class</th>\n",
       "    </tr>\n",
       "  </thead>\n",
       "  <tbody>\n",
       "    <tr>\n",
       "      <th>0</th>\n",
       "      <td>0.263980</td>\n",
       "      <td>0.975480</td>\n",
       "      <td>0.768060</td>\n",
       "      <td>0.831231</td>\n",
       "      <td>0.316356</td>\n",
       "      <td>0.766998</td>\n",
       "      <td>0.264401</td>\n",
       "      <td>0.480854</td>\n",
       "      <td>0.492552</td>\n",
       "      <td>0.600237</td>\n",
       "      <td>0.458462</td>\n",
       "      <td>0.764043</td>\n",
       "      <td>0.660305</td>\n",
       "      <td>0.539059</td>\n",
       "      <td>0.556330</td>\n",
       "      <td>0.003900</td>\n",
       "      <td>1</td>\n",
       "    </tr>\n",
       "    <tr>\n",
       "      <th>1</th>\n",
       "      <td>0.996643</td>\n",
       "      <td>0.990015</td>\n",
       "      <td>0.761044</td>\n",
       "      <td>0.827419</td>\n",
       "      <td>0.272936</td>\n",
       "      <td>0.762375</td>\n",
       "      <td>0.261666</td>\n",
       "      <td>0.498740</td>\n",
       "      <td>0.509883</td>\n",
       "      <td>0.645043</td>\n",
       "      <td>0.466434</td>\n",
       "      <td>0.711363</td>\n",
       "      <td>0.663609</td>\n",
       "      <td>0.523826</td>\n",
       "      <td>0.565077</td>\n",
       "      <td>0.003118</td>\n",
       "      <td>0</td>\n",
       "    </tr>\n",
       "    <tr>\n",
       "      <th>2</th>\n",
       "      <td>0.801443</td>\n",
       "      <td>0.934175</td>\n",
       "      <td>0.775426</td>\n",
       "      <td>0.836357</td>\n",
       "      <td>0.182667</td>\n",
       "      <td>0.771340</td>\n",
       "      <td>0.255168</td>\n",
       "      <td>0.478236</td>\n",
       "      <td>0.512373</td>\n",
       "      <td>0.651439</td>\n",
       "      <td>0.464644</td>\n",
       "      <td>0.695678</td>\n",
       "      <td>0.634542</td>\n",
       "      <td>0.499532</td>\n",
       "      <td>0.558385</td>\n",
       "      <td>0.000077</td>\n",
       "      <td>0</td>\n",
       "    </tr>\n",
       "    <tr>\n",
       "      <th>3</th>\n",
       "      <td>0.445359</td>\n",
       "      <td>0.969883</td>\n",
       "      <td>0.781349</td>\n",
       "      <td>0.815875</td>\n",
       "      <td>0.342284</td>\n",
       "      <td>0.774352</td>\n",
       "      <td>0.254664</td>\n",
       "      <td>0.456329</td>\n",
       "      <td>0.463648</td>\n",
       "      <td>0.475218</td>\n",
       "      <td>0.473543</td>\n",
       "      <td>0.848716</td>\n",
       "      <td>0.739162</td>\n",
       "      <td>0.509612</td>\n",
       "      <td>0.555836</td>\n",
       "      <td>0.000039</td>\n",
       "      <td>1</td>\n",
       "    </tr>\n",
       "    <tr>\n",
       "      <th>4</th>\n",
       "      <td>0.463427</td>\n",
       "      <td>0.955610</td>\n",
       "      <td>0.778116</td>\n",
       "      <td>0.869931</td>\n",
       "      <td>0.388904</td>\n",
       "      <td>0.759693</td>\n",
       "      <td>0.278908</td>\n",
       "      <td>0.423913</td>\n",
       "      <td>0.510500</td>\n",
       "      <td>0.658230</td>\n",
       "      <td>0.450287</td>\n",
       "      <td>0.744509</td>\n",
       "      <td>0.673921</td>\n",
       "      <td>0.585011</td>\n",
       "      <td>0.542966</td>\n",
       "      <td>0.000996</td>\n",
       "      <td>1</td>\n",
       "    </tr>\n",
       "  </tbody>\n",
       "</table>\n",
       "</div>"
      ],
      "text/plain": [
       "       Time        V1        V2        V3        V4        V5        V6  \\\n",
       "0  0.263980  0.975480  0.768060  0.831231  0.316356  0.766998  0.264401   \n",
       "1  0.996643  0.990015  0.761044  0.827419  0.272936  0.762375  0.261666   \n",
       "2  0.801443  0.934175  0.775426  0.836357  0.182667  0.771340  0.255168   \n",
       "3  0.445359  0.969883  0.781349  0.815875  0.342284  0.774352  0.254664   \n",
       "4  0.463427  0.955610  0.778116  0.869931  0.388904  0.759693  0.278908   \n",
       "\n",
       "         V9       V10       V14       V16       V17       V18       V19  \\\n",
       "0  0.480854  0.492552  0.600237  0.458462  0.764043  0.660305  0.539059   \n",
       "1  0.498740  0.509883  0.645043  0.466434  0.711363  0.663609  0.523826   \n",
       "2  0.478236  0.512373  0.651439  0.464644  0.695678  0.634542  0.499532   \n",
       "3  0.456329  0.463648  0.475218  0.473543  0.848716  0.739162  0.509612   \n",
       "4  0.423913  0.510500  0.658230  0.450287  0.744509  0.673921  0.585011   \n",
       "\n",
       "        V21    Amount  Class  \n",
       "0  0.556330  0.003900      1  \n",
       "1  0.565077  0.003118      0  \n",
       "2  0.558385  0.000077      0  \n",
       "3  0.555836  0.000039      1  \n",
       "4  0.542966  0.000996      1  "
      ]
     },
     "execution_count": 52,
     "metadata": {},
     "output_type": "execute_result"
    }
   ],
   "source": [
    "dataDae.head()"
   ]
  },
  {
   "cell_type": "code",
   "execution_count": 53,
   "metadata": {
    "_uuid": "dd85c4ac4a4997f4b71810da292fbcf74f0b5065"
   },
   "outputs": [
    {
     "data": {
      "text/plain": [
       "(227446, 16)"
      ]
     },
     "execution_count": 53,
     "metadata": {},
     "output_type": "execute_result"
    }
   ],
   "source": [
    "#X_train, X_test = train_test_split(data, test_size=0.2, random_state=RANDOM_SEED)\n",
    "X_train = dataDae\n",
    "X_train = X_train[X_train.Class == 0]\n",
    "X_train = X_train.drop(['Class'], axis=1)\n",
    "X_train = X_train.values\n",
    "X_train.shape"
   ]
  },
  {
   "cell_type": "markdown",
   "metadata": {},
   "source": [
    "Creating a deep auto encoder structure with variations in the activations to throw in some resistence for learning. "
   ]
  },
  {
   "cell_type": "code",
   "execution_count": 54,
   "metadata": {
    "_uuid": "8079796273d21821bdbf9fbf66f9f43d91d85296",
    "collapsed": true
   },
   "outputs": [],
   "source": [
    "input_dim = X_train.shape[1]\n",
    "encoding_dim = X_train.shape[1]\n",
    "\n",
    "input_layer = Input(shape=(input_dim, ))\n",
    "encoder = Dense(encoding_dim, activation=\"relu\", \n",
    "                activity_regularizer=regularizers.l1(10e-5))(input_layer)\n",
    "hl1 = Dense(int(encoding_dim*20), activation=\"tanh\")(encoder)\n",
    "hl2 = Dense(int(encoding_dim*20), activation=\"relu\")(hl1)\n",
    "hl3 = Dense(int(encoding_dim*20), activation=\"tanh\")(hl2)\n",
    "decoder = Dense(int(encoding_dim*20), activation='relu')(hl3)\n",
    "decoder = Dense(input_dim, activation='tanh')(decoder)\n",
    "autoencoder = Model(inputs=input_layer, outputs=decoder)"
   ]
  },
  {
   "cell_type": "markdown",
   "metadata": {},
   "source": [
    "Training the DAE for 20 epochs with a batch size of 1024 and calculating the error as a mean squared error and using the optimizer as an Adam Optimizer."
   ]
  },
  {
   "cell_type": "code",
   "execution_count": 55,
   "metadata": {
    "_uuid": "54959bf7bf716246b28a6bbf938f9b398d8f236e"
   },
   "outputs": [
    {
     "name": "stdout",
     "output_type": "stream",
     "text": [
      "Train on 227446 samples, validate on 56962 samples\n",
      "Epoch 1/20\n",
      "227446/227446 [==============================] - 18s 79us/step - loss: 0.0804 - acc: 0.9247 - val_loss: 0.0046 - val_acc: 0.9518\n",
      "Epoch 2/20\n",
      "227446/227446 [==============================] - 17s 75us/step - loss: 0.0044 - acc: 0.9513 - val_loss: 0.0047 - val_acc: 0.9523\n",
      "Epoch 3/20\n",
      "227446/227446 [==============================] - 18s 78us/step - loss: 0.0042 - acc: 0.9548 - val_loss: 0.0042 - val_acc: 0.9548\n",
      "Epoch 4/20\n",
      "227446/227446 [==============================] - 18s 78us/step - loss: 0.0042 - acc: 0.9556 - val_loss: 0.0045 - val_acc: 0.9545\n",
      "Epoch 5/20\n",
      "227446/227446 [==============================] - 16s 72us/step - loss: 0.0041 - acc: 0.9556 - val_loss: 0.0041 - val_acc: 0.9549\n",
      "Epoch 6/20\n",
      "227446/227446 [==============================] - 16s 70us/step - loss: 0.0040 - acc: 0.9557 - val_loss: 0.0043 - val_acc: 0.9550\n",
      "Epoch 7/20\n",
      "227446/227446 [==============================] - 16s 70us/step - loss: 0.0040 - acc: 0.9555 - val_loss: 0.0049 - val_acc: 0.9551\n",
      "Epoch 8/20\n",
      "227446/227446 [==============================] - 16s 70us/step - loss: 0.0039 - acc: 0.9555 - val_loss: 0.0040 - val_acc: 0.9553\n",
      "Epoch 9/20\n",
      "227446/227446 [==============================] - 16s 71us/step - loss: 0.0038 - acc: 0.9555 - val_loss: 0.0038 - val_acc: 0.9549\n",
      "Epoch 10/20\n",
      "227446/227446 [==============================] - 16s 71us/step - loss: 0.0037 - acc: 0.9554 - val_loss: 0.0037 - val_acc: 0.9554\n",
      "Epoch 11/20\n",
      "227446/227446 [==============================] - 16s 70us/step - loss: 0.0036 - acc: 0.9556 - val_loss: 0.0037 - val_acc: 0.9550\n",
      "Epoch 12/20\n",
      "227446/227446 [==============================] - 17s 75us/step - loss: 0.0034 - acc: 0.9554 - val_loss: 0.0037 - val_acc: 0.9532\n",
      "Epoch 13/20\n",
      "227446/227446 [==============================] - 17s 75us/step - loss: 0.0033 - acc: 0.9551 - val_loss: 0.0033 - val_acc: 0.9541\n",
      "Epoch 14/20\n",
      "227446/227446 [==============================] - 17s 76us/step - loss: 0.0031 - acc: 0.9547 - val_loss: 0.0032 - val_acc: 0.9546\n",
      "Epoch 15/20\n",
      "227446/227446 [==============================] - 17s 75us/step - loss: 0.0029 - acc: 0.9549 - val_loss: 0.0032 - val_acc: 0.9548\n",
      "Epoch 16/20\n",
      "227446/227446 [==============================] - 17s 75us/step - loss: 0.0028 - acc: 0.9551 - val_loss: 0.0030 - val_acc: 0.9543\n",
      "Epoch 17/20\n",
      "227446/227446 [==============================] - 17s 76us/step - loss: 0.0028 - acc: 0.9550 - val_loss: 0.0028 - val_acc: 0.9550\n",
      "Epoch 18/20\n",
      "227446/227446 [==============================] - 17s 75us/step - loss: 0.0027 - acc: 0.9551 - val_loss: 0.0028 - val_acc: 0.9550\n",
      "Epoch 19/20\n",
      "227446/227446 [==============================] - 19s 83us/step - loss: 0.0027 - acc: 0.9553 - val_loss: 0.0027 - val_acc: 0.9549\n",
      "Epoch 20/20\n",
      "227446/227446 [==============================] - 19s 84us/step - loss: 0.0026 - acc: 0.9553 - val_loss: 0.0028 - val_acc: 0.9553\n"
     ]
    }
   ],
   "source": [
    "nb_epoch = 20\n",
    "batch_size = 1024\n",
    "autoencoder.compile(optimizer='adam', \n",
    "                    loss='mean_squared_error', \n",
    "                    metrics=['accuracy'])\n",
    "checkpointer = ModelCheckpoint(filepath=\"model.h5\",\n",
    "                               verbose=0,\n",
    "                               save_best_only=True)\n",
    "tensorboard = TensorBoard(log_dir=\"./logs\",\n",
    "                          histogram_freq=0,\n",
    "                          write_graph=True,\n",
    "                          write_images=True)\n",
    "history = autoencoder.fit(X_train, X_train,\n",
    "                    epochs=nb_epoch,\n",
    "                    batch_size=batch_size,\n",
    "                    shuffle=True,\n",
    "                    validation_data=(x_val, x_val),\n",
    "                    verbose=1,\n",
    "                    callbacks=[checkpointer, tensorboard]).history"
   ]
  },
  {
   "cell_type": "code",
   "execution_count": 56,
   "metadata": {
    "_uuid": "90115d6141999e6e1c68644a21fb49382466ad13",
    "collapsed": true
   },
   "outputs": [],
   "source": [
    "autoencoder = load_model('model.h5')"
   ]
  },
  {
   "cell_type": "code",
   "execution_count": 57,
   "metadata": {
    "_uuid": "3e965353602a1bc9aa6fa04af0db449e7a8c9185"
   },
   "outputs": [
    {
     "data": {
      "image/png": "[encoded data removed]",
      "text/plain": [
       "<matplotlib.figure.Figure at 0x24b9f4a0b38>"
      ]
     },
     "metadata": {},
     "output_type": "display_data"
    }
   ],
   "source": [
    "plt.plot(history['loss'])\n",
    "plt.plot(history['val_loss'])\n",
    "plt.title('model loss')\n",
    "plt.ylabel('loss')\n",
    "plt.xlabel('epoch')\n",
    "plt.legend(['train', 'CrossValidation'], loc='upper right');"
   ]
  },
  {
   "cell_type": "code",
   "execution_count": 58,
   "metadata": {
    "_uuid": "92be6a65a8f014bd4d8e5f729c4bc97f4375fa21"
   },
   "outputs": [
    {
     "data": {
      "image/png": "[encoded data removed]",
      "text/plain": [
       "<matplotlib.figure.Figure at 0x24ba081ada0>"
      ]
     },
     "metadata": {},
     "output_type": "display_data"
    }
   ],
   "source": [
    "plt.plot(history['acc'])\n",
    "plt.plot(history['val_acc'])\n",
    "plt.title('model acc')\n",
    "plt.ylabel('acc')\n",
    "plt.xlabel('epoch')\n",
    "plt.legend(['train', 'CrossValidation'], loc='lower right');"
   ]
  },
  {
   "cell_type": "code",
   "execution_count": 59,
   "metadata": {
    "_uuid": "9f1192c788702fc4b94c814dd3f1284800bf5183"
   },
   "outputs": [
    {
     "data": {
      "text/html": [
       "<div>\n",
       "<style>\n",
       "    .dataframe thead tr:only-child th {\n",
       "        text-align: right;\n",
       "    }\n",
       "\n",
       "    .dataframe thead th {\n",
       "        text-align: left;\n",
       "    }\n",
       "\n",
       "    .dataframe tbody tr th {\n",
       "        vertical-align: top;\n",
       "    }\n",
       "</style>\n",
       "<table border=\"1\" class=\"dataframe\">\n",
       "  <thead>\n",
       "    <tr style=\"text-align: right;\">\n",
       "      <th></th>\n",
       "      <th>reconstruction_error</th>\n",
       "      <th>true_class</th>\n",
       "    </tr>\n",
       "  </thead>\n",
       "  <tbody>\n",
       "    <tr>\n",
       "      <th>0</th>\n",
       "      <td>0.002110</td>\n",
       "      <td>0</td>\n",
       "    </tr>\n",
       "    <tr>\n",
       "      <th>1</th>\n",
       "      <td>0.000706</td>\n",
       "      <td>0</td>\n",
       "    </tr>\n",
       "    <tr>\n",
       "      <th>2</th>\n",
       "      <td>0.007250</td>\n",
       "      <td>0</td>\n",
       "    </tr>\n",
       "    <tr>\n",
       "      <th>3</th>\n",
       "      <td>0.000198</td>\n",
       "      <td>0</td>\n",
       "    </tr>\n",
       "    <tr>\n",
       "      <th>4</th>\n",
       "      <td>0.000923</td>\n",
       "      <td>0</td>\n",
       "    </tr>\n",
       "  </tbody>\n",
       "</table>\n",
       "</div>"
      ],
      "text/plain": [
       "   reconstruction_error  true_class\n",
       "0              0.002110           0\n",
       "1              0.000706           0\n",
       "2              0.007250           0\n",
       "3              0.000198           0\n",
       "4              0.000923           0"
      ]
     },
     "execution_count": 59,
     "metadata": {},
     "output_type": "execute_result"
    }
   ],
   "source": [
    "predictions = autoencoder.predict(x_val)\n",
    "\n",
    "mse = np.mean(np.power(x_val - predictions, 2), axis=1)\n",
    "error_df = pd.DataFrame({'reconstruction_error': mse,\n",
    "                        'true_class': y_val})\n",
    "error_df.head()"
   ]
  },
  {
   "cell_type": "code",
   "execution_count": 60,
   "metadata": {
    "_uuid": "3f3885c165c21ef0160fff9cf2f605525dd90eeb",
    "collapsed": true
   },
   "outputs": [],
   "source": [
    "from sklearn.metrics import (confusion_matrix, recall_score, classification_report, f1_score,\n",
    "                             precision_recall_fscore_support)"
   ]
  },
  {
   "cell_type": "code",
   "execution_count": 61,
   "metadata": {
    "_uuid": "24d805905480fd89744a2bc7319722d443df8903"
   },
   "outputs": [
    {
     "data": {
      "text/html": [
       "<div>\n",
       "<style>\n",
       "    .dataframe thead tr:only-child th {\n",
       "        text-align: right;\n",
       "    }\n",
       "\n",
       "    .dataframe thead th {\n",
       "        text-align: left;\n",
       "    }\n",
       "\n",
       "    .dataframe tbody tr th {\n",
       "        vertical-align: top;\n",
       "    }\n",
       "</style>\n",
       "<table border=\"1\" class=\"dataframe\">\n",
       "  <thead>\n",
       "    <tr style=\"text-align: right;\">\n",
       "      <th></th>\n",
       "      <th>reconstruction_error</th>\n",
       "      <th>true_class</th>\n",
       "    </tr>\n",
       "  </thead>\n",
       "  <tbody>\n",
       "    <tr>\n",
       "      <th>0</th>\n",
       "      <td>0.002110</td>\n",
       "      <td>0</td>\n",
       "    </tr>\n",
       "    <tr>\n",
       "      <th>1</th>\n",
       "      <td>0.000706</td>\n",
       "      <td>0</td>\n",
       "    </tr>\n",
       "    <tr>\n",
       "      <th>2</th>\n",
       "      <td>0.007250</td>\n",
       "      <td>0</td>\n",
       "    </tr>\n",
       "    <tr>\n",
       "      <th>3</th>\n",
       "      <td>0.000198</td>\n",
       "      <td>0</td>\n",
       "    </tr>\n",
       "    <tr>\n",
       "      <th>4</th>\n",
       "      <td>0.000923</td>\n",
       "      <td>0</td>\n",
       "    </tr>\n",
       "    <tr>\n",
       "      <th>784</th>\n",
       "      <td>0.144036</td>\n",
       "      <td>1</td>\n",
       "    </tr>\n",
       "    <tr>\n",
       "      <th>1373</th>\n",
       "      <td>0.007032</td>\n",
       "      <td>1</td>\n",
       "    </tr>\n",
       "    <tr>\n",
       "      <th>1722</th>\n",
       "      <td>0.017724</td>\n",
       "      <td>1</td>\n",
       "    </tr>\n",
       "    <tr>\n",
       "      <th>1758</th>\n",
       "      <td>0.007905</td>\n",
       "      <td>1</td>\n",
       "    </tr>\n",
       "    <tr>\n",
       "      <th>2941</th>\n",
       "      <td>0.003029</td>\n",
       "      <td>1</td>\n",
       "    </tr>\n",
       "  </tbody>\n",
       "</table>\n",
       "</div>"
      ],
      "text/plain": [
       "      reconstruction_error  true_class\n",
       "0                 0.002110           0\n",
       "1                 0.000706           0\n",
       "2                 0.007250           0\n",
       "3                 0.000198           0\n",
       "4                 0.000923           0\n",
       "784               0.144036           1\n",
       "1373              0.007032           1\n",
       "1722              0.017724           1\n",
       "1758              0.007905           1\n",
       "2941              0.003029           1"
      ]
     },
     "execution_count": 61,
     "metadata": {},
     "output_type": "execute_result"
    }
   ],
   "source": [
    "threshold = 0.02\n",
    "groups = error_df.groupby('true_class')\n",
    "groups.head()"
   ]
  },
  {
   "cell_type": "markdown",
   "metadata": {},
   "source": [
    "Visualizing the reconstruction error. We can change the threshold value as needed, it gives more control over at the business end to make decisions."
   ]
  },
  {
   "cell_type": "code",
   "execution_count": 62,
   "metadata": {
    "_uuid": "851855b4f6c8d6bf57531a8cae5d920b5977b2fa"
   },
   "outputs": [
    {
     "data": {
      "image/png": "[encoded data removed]",
      "text/plain": [
       "<matplotlib.figure.Figure at 0x24ba097c5c0>"
      ]
     },
     "metadata": {},
     "output_type": "display_data"
    }
   ],
   "source": [
    "fig, ax = plt.subplots()\n",
    "\n",
    "for name, group in groups:\n",
    "    ax.plot(group.index, \n",
    "            group.reconstruction_error, marker='o', ms=3.5, linestyle='',\n",
    "            label= \"Fraud\" if name == 1 else \"Normal\")\n",
    "ax.hlines(threshold, ax.get_xlim()[0], ax.get_xlim()[1], colors=\"r\", zorder=100, label='Threshold')\n",
    "ax.legend()\n",
    "plt.title(\"Reconstruction error for different classes\")\n",
    "plt.ylabel(\"Reconstruction error\")\n",
    "plt.xlabel(\"Data point index\")\n",
    "plt.show()"
   ]
  },
  {
   "cell_type": "markdown",
   "metadata": {},
   "source": [
    "Visualize the confusion matrix"
   ]
  },
  {
   "cell_type": "code",
   "execution_count": 63,
   "metadata": {
    "_uuid": "8299c2001aaa0e149ca0d1af7edee37b8b12eb83"
   },
   "outputs": [
    {
     "data": {
      "image/png": "[encoded data removed]",
      "text/plain": [
       "<matplotlib.figure.Figure at 0x24ba00f1978>"
      ]
     },
     "metadata": {},
     "output_type": "display_data"
    }
   ],
   "source": [
    "#for e in error_df.reconstruction_error.values:\n",
    "#    if  e > threshold and \n",
    "y_pred = [1 if e > threshold else 0 for e in error_df.reconstruction_error.values]\n",
    "conf_matrix = confusion_matrix(error_df.true_class, y_pred)\n",
    "plt.figure(figsize=(6,6))\n",
    "sns.heatmap(conf_matrix, xticklabels=LABELS, yticklabels=LABELS, annot=True, fmt=\"d\");\n",
    "plt.title(\"Confusion matrix\")\n",
    "plt.ylabel('True class')\n",
    "plt.xlabel('Predicted class')\n",
    "plt.show()"
   ]
  },
  {
   "cell_type": "code",
   "execution_count": 64,
   "metadata": {
    "_uuid": "1ea9027bd11e36a1c5183ee8362c71b0ec241099"
   },
   "outputs": [
    {
     "name": "stdout",
     "output_type": "stream",
     "text": [
      "[[56779    90]\n",
      " [   64    29]]\n"
     ]
    }
   ],
   "source": [
    "print(conf_matrix)"
   ]
  },
  {
   "cell_type": "markdown",
   "metadata": {},
   "source": [
    "Calculating the accuracy."
   ]
  },
  {
   "cell_type": "code",
   "execution_count": 65,
   "metadata": {
    "_uuid": "45fbecf0f8e94b15a57824eeacf5c622508ebc07"
   },
   "outputs": [
    {
     "name": "stdout",
     "output_type": "stream",
     "text": [
      "Overall accuracy =  0.997296443243\n"
     ]
    }
   ],
   "source": [
    "print('Overall accuracy = ', (conf_matrix[0][0] + conf_matrix[1][1])/(conf_matrix[0][0] + conf_matrix[1][1] \n",
    "                                                                    + conf_matrix[0][1] + conf_matrix[1][0]))"
   ]
  },
  {
   "cell_type": "code",
   "execution_count": 66,
   "metadata": {
    "_uuid": "cfbd9e48058d0773b587321b950f43db96b03081"
   },
   "outputs": [
    {
     "name": "stdout",
     "output_type": "stream",
     "text": [
      "             precision    recall  f1-score   support\n",
      "\n",
      "    class 0       1.00      1.00      1.00     56869\n",
      "    class 1       0.24      0.31      0.27        93\n",
      "\n",
      "avg / total       1.00      1.00      1.00     56962\n",
      "\n"
     ]
    }
   ],
   "source": [
    "target_names = ['class 0', 'class 1']\n",
    "print(classification_report(y_val, y_pred, target_names=target_names))"
   ]
  },
  {
   "cell_type": "code",
   "execution_count": null,
   "metadata": {
    "_cell_guid": "98af0eb9-9afb-4a71-a1ba-97e712f5b449",
    "_uuid": "43c04e3c4b00c5a74f78479e23ce4855b95edabc",
    "collapsed": true
   },
   "outputs": [],
   "source": []
  }
 ],
 "metadata": {
  "kernelspec": {
   "display_name": "Python 3",
   "language": "python",
   "name": "python3"
  },
  "language_info": {
   "codemirror_mode": {
    "name": "ipython",
    "version": 3
   },
   "file_extension": ".py",
   "mimetype": "text/x-python",
   "name": "python",
   "nbconvert_exporter": "python",
   "pygments_lexer": "ipython3",
   "version": "3.6.6"
  }
 },
 "nbformat": 4,
 "nbformat_minor": 1
}
