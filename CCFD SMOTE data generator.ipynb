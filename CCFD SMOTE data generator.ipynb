{
 "cells": [
  {
   "cell_type": "markdown",
   "metadata": {},
   "source": [
    "Data Source - https://www.kaggle.com/mlg-ulb/creditcardfraud\n",
    "Data Source is a highly imbalanced dataset which is balanced in this i python notebook using SMOTE, A synthetic minority oversampling technique.\n",
    "In this code we read the original csv and see the imbalance in the data. After observing the imbalance we go ahead and apply the smote method for removing the data imbalance. The visualization after smote is shown in \"CCFD SMOTE Ensemble + DAE.ipynb\"\n"
   ]
  },
  {
   "cell_type": "code",
   "execution_count": 1,
   "metadata": {},
   "outputs": [
    {
     "name": "stderr",
     "output_type": "stream",
     "text": [
      "Using TensorFlow backend.\n"
     ]
    }
   ],
   "source": [
    "'''So now the idea is to train it correctly and set/adjust the threshold so that confusion matrix is \n",
    "set in such way that accuracy is high. Now accuracy is the correct measure to consider as we have exactly 50-50% balanced dataset\n",
    "for each class for training.\n",
    "'''\n",
    "\n",
    "import pandas as pd\n",
    "import numpy as np\n",
    "import pickle\n",
    "import matplotlib.pyplot as plt\n",
    "from scipy import stats\n",
    "import tensorflow as tf\n",
    "import seaborn as sns\n",
    "from pylab import rcParams\n",
    "from sklearn.model_selection import train_test_split\n",
    "from keras.models import Model, load_model\n",
    "from keras.layers import Input, Dense\n",
    "from keras.callbacks import ModelCheckpoint, TensorBoard\n",
    "from keras import regularizers\n",
    "from sklearn.preprocessing import MinMaxScaler\n",
    "from collections import Counter\n",
    "from sklearn.datasets import make_classification\n",
    "from sklearn.model_selection import train_test_split\n",
    "from sklearn.ensemble import RandomForestClassifier\n",
    "from sklearn.metrics import recall_score\n",
    "%matplotlib inline\n",
    "sns.set(style='whitegrid', palette='muted', font_scale=1.5)\n",
    "rcParams['figure.figsize'] = 14, 8\n",
    "RANDOM_SEED = 42\n",
    "LABELS = [\"Normal\", \"Fraud\"]"
   ]
  },
  {
   "cell_type": "code",
   "execution_count": 2,
   "metadata": {},
   "outputs": [],
   "source": [
    "df = pd.read_csv('./creditcard.csv')"
   ]
  },
  {
   "cell_type": "markdown",
   "metadata": {},
   "source": [
    "Read the original data file and remove the noisy columns keep the columns which are important to make the prediction correctly."
   ]
  },
  {
   "cell_type": "code",
   "execution_count": 3,
   "metadata": {},
   "outputs": [
    {
     "name": "stdout",
     "output_type": "stream",
     "text": [
      "columns dropped.\n"
     ]
    }
   ],
   "source": [
    "df = df.drop(['V28','V27','V26','V25','V24','V23','V22','V20','V15','V13','V8','V7','V11','V12'], axis =1)\n",
    "print(\"columns dropped.\")"
   ]
  },
  {
   "cell_type": "code",
   "execution_count": 5,
   "metadata": {},
   "outputs": [
    {
     "data": {
      "text/plain": [
       "(284315, 17)"
      ]
     },
     "execution_count": 5,
     "metadata": {},
     "output_type": "execute_result"
    }
   ],
   "source": [
    "df[df.Class == 0].shape"
   ]
  },
  {
   "cell_type": "code",
   "execution_count": 6,
   "metadata": {},
   "outputs": [
    {
     "data": {
      "text/plain": [
       "(492, 17)"
      ]
     },
     "execution_count": 6,
     "metadata": {},
     "output_type": "execute_result"
    }
   ],
   "source": [
    "df[df.Class == 1].shape"
   ]
  },
  {
   "cell_type": "markdown",
   "metadata": {},
   "source": [
    "We can observe that for 284315 normal samples we have 492 fraud transactions. This is a huge imbalance leading the models to show high bias towards normal transaction."
   ]
  },
  {
   "cell_type": "code",
   "execution_count": 4,
   "metadata": {},
   "outputs": [
    {
     "data": {
      "text/plain": [
       "Text(0, 0.5, 'Number of Occurances')"
      ]
     },
     "execution_count": 4,
     "metadata": {},
     "output_type": "execute_result"
    },
    {
     "data": {
      "image/png": "[encoded data removed]",
      "text/plain": [
       "<Figure size 432x288 with 1 Axes>"
      ]
     },
     "metadata": {
      "needs_background": "light"
     },
     "output_type": "display_data"
    }
   ],
   "source": [
    "count_classes = pd.value_counts(df['Class'], sort = True)\n",
    "count_classes.plot(kind = 'bar', rot=0)\n",
    "plt.title(\"Transaction class distribution\")\n",
    "plt.xticks(range(2), LABELS)\n",
    "plt.xlabel(\"Class\")\n",
    "plt.ylabel(\"Number of Occurances\")"
   ]
  },
  {
   "cell_type": "markdown",
   "metadata": {},
   "source": [
    "Using Feature scaling using minmaxscaling."
   ]
  },
  {
   "cell_type": "code",
   "execution_count": 4,
   "metadata": {
    "collapsed": true
   },
   "outputs": [],
   "source": [
    "from sklearn.preprocessing import MinMaxScaler\n",
    "scaler = MinMaxScaler()\n",
    "\n",
    "for col in df.columns:\n",
    "    if col == 'Class':\n",
    "        continue\n",
    "    df[col] = scaler.fit_transform(df[[col]])"
   ]
  },
  {
   "cell_type": "markdown",
   "metadata": {},
   "source": [
    "Creating a test train split, 80% data is used for training, 20% data is used for testing."
   ]
  },
  {
   "cell_type": "code",
   "execution_count": 6,
   "metadata": {},
   "outputs": [],
   "source": [
    "Y = df['Class']\n",
    "X = df.drop('Class',axis=1)\n",
    "x_train, x_val, y_train, y_val = train_test_split(X, Y,\n",
    "                                                  test_size = .2,\n",
    "                                                  random_state=12)"
   ]
  },
  {
   "cell_type": "markdown",
   "metadata": {},
   "source": [
    "Applying SMOTE on the training data and creating Synthetic Samples."
   ]
  },
  {
   "cell_type": "code",
   "execution_count": 7,
   "metadata": {},
   "outputs": [
    {
     "name": "stderr",
     "output_type": "stream",
     "text": [
      "C:\\Users\\d071556\\AppData\\Local\\Continuum\\anaconda3\\lib\\site-packages\\sklearn\\utils\\deprecation.py:75: DeprecationWarning: Function _ratio_float is deprecated; Use a float for 'ratio' is deprecated from version 0.2. The support will be removed in 0.4. Use a dict, str, or a callable instead.\n",
      "  warnings.warn(msg, category=DeprecationWarning)\n"
     ]
    }
   ],
   "source": [
    "#SMOTE CODE\n",
    "from imblearn.over_sampling import SMOTE \n",
    "sm = SMOTE(random_state=12, ratio = 1.0)\n",
    "x_train_res, y_train_res = sm.fit_sample(x_train, y_train)\n",
    "x_train = x_train_res\n",
    "y_train = y_train_res"
   ]
  },
  {
   "cell_type": "code",
   "execution_count": 8,
   "metadata": {},
   "outputs": [
    {
     "data": {
      "text/html": [
       "<div>\n",
       "<style>\n",
       "    .dataframe thead tr:only-child th {\n",
       "        text-align: right;\n",
       "    }\n",
       "\n",
       "    .dataframe thead th {\n",
       "        text-align: left;\n",
       "    }\n",
       "\n",
       "    .dataframe tbody tr th {\n",
       "        vertical-align: top;\n",
       "    }\n",
       "</style>\n",
       "<table border=\"1\" class=\"dataframe\">\n",
       "  <thead>\n",
       "    <tr style=\"text-align: right;\">\n",
       "      <th></th>\n",
       "      <th>Time</th>\n",
       "      <th>V1</th>\n",
       "      <th>V2</th>\n",
       "      <th>V3</th>\n",
       "      <th>V4</th>\n",
       "      <th>V5</th>\n",
       "      <th>V6</th>\n",
       "      <th>V9</th>\n",
       "      <th>V10</th>\n",
       "      <th>V14</th>\n",
       "      <th>V16</th>\n",
       "      <th>V17</th>\n",
       "      <th>V18</th>\n",
       "      <th>V19</th>\n",
       "      <th>V21</th>\n",
       "      <th>Amount</th>\n",
       "    </tr>\n",
       "  </thead>\n",
       "  <tbody>\n",
       "    <tr>\n",
       "      <th>214164</th>\n",
       "      <td>0.807670</td>\n",
       "      <td>0.995829</td>\n",
       "      <td>0.749633</td>\n",
       "      <td>0.834810</td>\n",
       "      <td>0.174485</td>\n",
       "      <td>0.755046</td>\n",
       "      <td>0.267426</td>\n",
       "      <td>0.430891</td>\n",
       "      <td>0.542838</td>\n",
       "      <td>0.619353</td>\n",
       "      <td>0.459929</td>\n",
       "      <td>0.725150</td>\n",
       "      <td>0.720315</td>\n",
       "      <td>0.563823</td>\n",
       "      <td>0.560384</td>\n",
       "      <td>0.000930</td>\n",
       "    </tr>\n",
       "    <tr>\n",
       "      <th>10783</th>\n",
       "      <td>0.106249</td>\n",
       "      <td>0.889119</td>\n",
       "      <td>0.819275</td>\n",
       "      <td>0.672388</td>\n",
       "      <td>0.508681</td>\n",
       "      <td>0.733588</td>\n",
       "      <td>0.229768</td>\n",
       "      <td>0.349183</td>\n",
       "      <td>0.282014</td>\n",
       "      <td>0.204645</td>\n",
       "      <td>0.135777</td>\n",
       "      <td>0.251382</td>\n",
       "      <td>0.301532</td>\n",
       "      <td>0.719631</td>\n",
       "      <td>0.585717</td>\n",
       "      <td>0.003503</td>\n",
       "    </tr>\n",
       "    <tr>\n",
       "      <th>228456</th>\n",
       "      <td>0.842163</td>\n",
       "      <td>0.939104</td>\n",
       "      <td>0.773098</td>\n",
       "      <td>0.868715</td>\n",
       "      <td>0.251993</td>\n",
       "      <td>0.765248</td>\n",
       "      <td>0.270578</td>\n",
       "      <td>0.452194</td>\n",
       "      <td>0.496676</td>\n",
       "      <td>0.654537</td>\n",
       "      <td>0.470683</td>\n",
       "      <td>0.702728</td>\n",
       "      <td>0.727451</td>\n",
       "      <td>0.519925</td>\n",
       "      <td>0.565991</td>\n",
       "      <td>0.005210</td>\n",
       "    </tr>\n",
       "    <tr>\n",
       "      <th>253376</th>\n",
       "      <td>0.904116</td>\n",
       "      <td>0.991599</td>\n",
       "      <td>0.764975</td>\n",
       "      <td>0.830818</td>\n",
       "      <td>0.301168</td>\n",
       "      <td>0.763227</td>\n",
       "      <td>0.263156</td>\n",
       "      <td>0.489740</td>\n",
       "      <td>0.517364</td>\n",
       "      <td>0.656266</td>\n",
       "      <td>0.475610</td>\n",
       "      <td>0.697006</td>\n",
       "      <td>0.727351</td>\n",
       "      <td>0.540899</td>\n",
       "      <td>0.565244</td>\n",
       "      <td>0.000000</td>\n",
       "    </tr>\n",
       "    <tr>\n",
       "      <th>243213</th>\n",
       "      <td>0.878756</td>\n",
       "      <td>0.940254</td>\n",
       "      <td>0.771667</td>\n",
       "      <td>0.850931</td>\n",
       "      <td>0.136860</td>\n",
       "      <td>0.774222</td>\n",
       "      <td>0.279082</td>\n",
       "      <td>0.476031</td>\n",
       "      <td>0.493868</td>\n",
       "      <td>0.638193</td>\n",
       "      <td>0.457856</td>\n",
       "      <td>0.712536</td>\n",
       "      <td>0.590956</td>\n",
       "      <td>0.420173</td>\n",
       "      <td>0.563812</td>\n",
       "      <td>0.000473</td>\n",
       "    </tr>\n",
       "  </tbody>\n",
       "</table>\n",
       "</div>"
      ],
      "text/plain": [
       "            Time        V1        V2        V3        V4        V5        V6  \\\n",
       "214164  0.807670  0.995829  0.749633  0.834810  0.174485  0.755046  0.267426   \n",
       "10783   0.106249  0.889119  0.819275  0.672388  0.508681  0.733588  0.229768   \n",
       "228456  0.842163  0.939104  0.773098  0.868715  0.251993  0.765248  0.270578   \n",
       "253376  0.904116  0.991599  0.764975  0.830818  0.301168  0.763227  0.263156   \n",
       "243213  0.878756  0.940254  0.771667  0.850931  0.136860  0.774222  0.279082   \n",
       "\n",
       "              V9       V10       V14       V16       V17       V18       V19  \\\n",
       "214164  0.430891  0.542838  0.619353  0.459929  0.725150  0.720315  0.563823   \n",
       "10783   0.349183  0.282014  0.204645  0.135777  0.251382  0.301532  0.719631   \n",
       "228456  0.452194  0.496676  0.654537  0.470683  0.702728  0.727451  0.519925   \n",
       "253376  0.489740  0.517364  0.656266  0.475610  0.697006  0.727351  0.540899   \n",
       "243213  0.476031  0.493868  0.638193  0.457856  0.712536  0.590956  0.420173   \n",
       "\n",
       "             V21    Amount  \n",
       "214164  0.560384  0.000930  \n",
       "10783   0.585717  0.003503  \n",
       "228456  0.565991  0.005210  \n",
       "253376  0.565244  0.000000  \n",
       "243213  0.563812  0.000473  "
      ]
     },
     "execution_count": 8,
     "metadata": {},
     "output_type": "execute_result"
    }
   ],
   "source": [
    "x_train = pd.DataFrame(x_train_res)\n",
    "y_train = pd.DataFrame(y_train_res)\n",
    "x_train.columns = X.columns\n",
    "y_train = pd.DataFrame(y_train_res)\n",
    "Y = pd.DataFrame(Y)\n",
    "y_train.columns = Y.columns\n",
    "######################################################\n",
    "x_test = pd.DataFrame(x_val)\n",
    "y_test = pd.DataFrame(y_val)\n",
    "x_test.head()"
   ]
  },
  {
   "cell_type": "code",
   "execution_count": 9,
   "metadata": {
    "collapsed": true
   },
   "outputs": [],
   "source": [
    "result = pd.concat([x_train, y_train], axis = 1)\n",
    "result.head()\n",
    "from sklearn.utils import shuffle\n",
    "df = shuffle(result)\n",
    "df.head()\n",
    "data = df\n",
    "################################################################\n",
    "result = pd.concat([x_test, y_test], axis = 1)\n",
    "test_df = shuffle(result)\n"
   ]
  },
  {
   "cell_type": "code",
   "execution_count": 10,
   "metadata": {
    "collapsed": true
   },
   "outputs": [],
   "source": [
    "df.to_csv('ccfd_train.csv',index=False)\n",
    "test_df.to_csv('ccfd_test.csv',index=False)"
   ]
  },
  {
   "cell_type": "code",
   "execution_count": 11,
   "metadata": {},
   "outputs": [
    {
     "name": "stdout",
     "output_type": "stream",
     "text": [
      "Files created successfully.\n"
     ]
    }
   ],
   "source": [
    "print('Files created successfully.')"
   ]
  },
  {
   "cell_type": "code",
   "execution_count": null,
   "metadata": {
    "collapsed": true
   },
   "outputs": [],
   "source": []
  }
 ],
 "metadata": {
  "kernelspec": {
   "display_name": "Python 3",
   "language": "python",
   "name": "python3"
  },
  "language_info": {
   "codemirror_mode": {
    "name": "ipython",
    "version": 3
   },
   "file_extension": ".py",
   "mimetype": "text/x-python",
   "name": "python",
   "nbconvert_exporter": "python",
   "pygments_lexer": "ipython3",
   "version": "3.6.6"
  }
 },
 "nbformat": 4,
 "nbformat_minor": 2
}
